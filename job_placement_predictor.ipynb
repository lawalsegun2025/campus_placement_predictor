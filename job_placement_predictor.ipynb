{
 "cells": [
  {
   "cell_type": "markdown",
   "id": "42b5d2e7",
   "metadata": {},
   "source": [
    "# Job Placement Predictor\n",
    "\n",
    "This project builds a model that predicts whether a student can get job \n",
    "placement opportunity based on his/her academic performance, work experiences, projects etc. \n",
    "\n",
    "## Project Work Flow\n",
    "\n",
    "1. Load the data into a dataframe\n",
    "2. Perform Data Preprocessing like handling missing values, feature creation etc.\n",
    "3. Perform Eploratory Data Analysis and get valuable insights from the data\n",
    "4. Perform feature selection and select the best algorithm which fits the data\n",
    "5. Save the model in a pickle file"
   ]
  },
  {
   "cell_type": "code",
   "execution_count": null,
   "id": "64a32e83",
   "metadata": {},
   "outputs": [],
   "source": [
    "# import libriaries\n",
    "import numpy as np \n",
    "import pandas as pd \n",
    "import seaborn as sns \n",
    "import matplotlib.pyplot as plt"
   ]
  }
 ],
 "metadata": {
  "kernelspec": {
   "display_name": "Python 3 (ipykernel)",
   "language": "python",
   "name": "python3"
  },
  "language_info": {
   "codemirror_mode": {
    "name": "ipython",
    "version": 3
   },
   "file_extension": ".py",
   "mimetype": "text/x-python",
   "name": "python",
   "nbconvert_exporter": "python",
   "pygments_lexer": "ipython3",
   "version": "3.10.8"
  }
 },
 "nbformat": 4,
 "nbformat_minor": 5
}
