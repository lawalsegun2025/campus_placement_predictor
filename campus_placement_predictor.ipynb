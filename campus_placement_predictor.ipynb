{
 "cells": [
  {
   "cell_type": "markdown",
   "id": "c5ef8185",
   "metadata": {},
   "source": [
    "# Campus Placement Predictor\n",
    "\n",
    "This project builds a model that predicts whether a student can get placement opportunity based on hi/her academic performance, work experiences, projects etc. \n",
    "\n"
   ]
  },
  {
   "cell_type": "code",
   "execution_count": null,
   "id": "1da54207",
   "metadata": {},
   "outputs": [],
   "source": []
  }
 ],
 "metadata": {
  "kernelspec": {
   "display_name": "Python 3 (ipykernel)",
   "language": "python",
   "name": "python3"
  },
  "language_info": {
   "codemirror_mode": {
    "name": "ipython",
    "version": 3
   },
   "file_extension": ".py",
   "mimetype": "text/x-python",
   "name": "python",
   "nbconvert_exporter": "python",
   "pygments_lexer": "ipython3",
   "version": "3.10.8"
  }
 },
 "nbformat": 4,
 "nbformat_minor": 5
}
